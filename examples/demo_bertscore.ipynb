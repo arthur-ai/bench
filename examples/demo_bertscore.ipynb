{
 "cells": [
  {
   "cell_type": "markdown",
   "metadata": {},
   "source": [
    "# NOTE: \n",
    "**This demo notebook was used to generate the Test Suites and Run results recorded in the directory. Please feel free to use this as a reference when creating your own Test Suites and Test Runs.**\n",
    "\n",
    "**Running this notebook directly will result in errors. If you want to run the notebook as is, either:**\n",
    "1. Change the name of the Test Suite \n",
    "2. Delete the results from the directory\n",
    "3. Set the `BENCH_FILE_DIR` environment variable (which defaults to `./bench`) to a different directory. To do this, uncomment the cell below:"
   ]
  },
  {
   "cell_type": "code",
   "execution_count": 1,
   "metadata": {},
   "outputs": [],
   "source": [
    "# #uncomment me to change the default `BENCH_FILE_DIR`\n",
    "# import os\n",
    "# os.environ['BENCH_FILE_DIR'] = 'FILL ME IN'"
   ]
  },
  {
   "cell_type": "markdown",
   "metadata": {
    "pycharm": {
     "name": "#%% md\n"
    }
   },
   "source": [
    "# ArthurBench: Evaluating answers to coding questions with BERTScore distance from golden answers"
   ]
  },
  {
   "cell_type": "code",
   "execution_count": 2,
   "metadata": {
    "pycharm": {
     "is_executing": true,
     "name": "#%%\n"
    }
   },
   "outputs": [],
   "source": [
    "import pandas as pd\n",
    "from arthur_bench.run.testsuite import TestSuite"
   ]
  },
  {
   "cell_type": "code",
   "execution_count": 3,
   "metadata": {},
   "outputs": [
    {
     "data": {
      "text/plain": [
       "'/Users/rowancheung/code/bench/arthur_bench/__init__.py'"
      ]
     },
     "execution_count": 3,
     "metadata": {},
     "output_type": "execute_result"
    }
   ],
   "source": [
    "import arthur_bench\n",
    "\n",
    "arthur_bench.__file__"
   ]
  },
  {
   "cell_type": "code",
   "execution_count": 4,
   "metadata": {
    "pycharm": {
     "name": "#%%\n"
    }
   },
   "outputs": [],
   "source": [
    "stack_df = pd.read_csv('stackoverflow_qa/stack_overflow_golden.csv')\n",
    "stack_prompt0_df = pd.read_csv('stackoverflow_qa/gpt35_base.csv')\n",
    "stack_prompt1_df = pd.read_csv('stackoverflow_qa/gpt35_engineered.csv')"
   ]
  },
  {
   "cell_type": "code",
   "execution_count": 5,
   "metadata": {},
   "outputs": [],
   "source": [
    "stack_df['reference_output'] = stack_df['reference_output'].apply(lambda x: \" \".join(x.split(\" \")[:100]))"
   ]
  },
  {
   "cell_type": "markdown",
   "metadata": {
    "pycharm": {
     "name": "#%% md\n"
    }
   },
   "source": [
    "# Make a test suite"
   ]
  },
  {
   "cell_type": "code",
   "execution_count": 6,
   "metadata": {
    "pycharm": {
     "is_executing": true,
     "name": "#%%\n"
    }
   },
   "outputs": [],
   "source": [
    "my_test_suite = TestSuite(\n",
    "    'stack_dist_to_golden', \n",
    "    \"bertscore\",\n",
    "    reference_data=stack_df, \n",
    "    input_column='input', \n",
    "    reference_column='reference_output')"
   ]
  },
  {
   "cell_type": "markdown",
   "metadata": {
    "pycharm": {
     "name": "#%% md\n"
    }
   },
   "source": [
    "# Run the test on prompt v1"
   ]
  },
  {
   "cell_type": "code",
   "execution_count": 7,
   "metadata": {},
   "outputs": [],
   "source": [
    "from time import time"
   ]
  },
  {
   "cell_type": "code",
   "execution_count": 9,
   "metadata": {
    "pycharm": {
     "name": "#%%\n"
    }
   },
   "outputs": [
    {
     "data": {
      "application/vnd.jupyter.widget-view+json": {
       "model_id": "367a9557ff5040ec83b88ddbaa0abfd9",
       "version_major": 2,
       "version_minor": 0
      },
      "text/plain": [
       "Downloading pytorch_model.bin:   0%|          | 0.00/371M [00:00<?, ?B/s]"
      ]
     },
     "metadata": {},
     "output_type": "display_data"
    },
    {
     "name": "stderr",
     "output_type": "stream",
     "text": [
      "3364it [00:11, 281.86it/s]                                                                                                                                             \n"
     ]
    },
    {
     "name": "stdout",
     "output_type": "stream",
     "text": [
      "execution time: 26.340 seconds\n"
     ]
    }
   ],
   "source": [
    "start_time = time()\n",
    "\n",
    "run0 = my_test_suite.run(\n",
    "    'prompt39842',\n",
    "    candidate_data=stack_prompt0_df, \n",
    "    candidate_column='candidate_output',\n",
    "    batch_size=1\n",
    ")\n",
    "\n",
    "print(f\"execution time: {time() - start_time:.3f} seconds\")"
   ]
  },
  {
   "cell_type": "markdown",
   "metadata": {},
   "source": [
    "# Run tests on prompt v2"
   ]
  },
  {
   "cell_type": "code",
   "execution_count": 10,
   "metadata": {},
   "outputs": [
    {
     "name": "stderr",
     "output_type": "stream",
     "text": [
      "3364it [00:18, 183.62it/s]                                                                                                                                             \n"
     ]
    }
   ],
   "source": [
    "run1 = my_test_suite.run(\n",
    "    'prompt1',\n",
    "    candidate_data=stack_prompt1_df, \n",
    "    candidate_column='candidate_output',\n",
    ")"
   ]
  },
  {
   "cell_type": "code",
   "execution_count": 11,
   "metadata": {},
   "outputs": [
    {
     "data": {
      "image/png": "[encoded data removed]",
      "text/plain": [
       "<Figure size 1000x500 with 1 Axes>"
      ]
     },
     "metadata": {},
     "output_type": "display_data"
    }
   ],
   "source": [
    "import matplotlib.pyplot as plt\n",
    "fig, ax = plt.subplots(figsize=(10,5))\n",
    "ax.set_title('BERTScore from candidate answers to golden answers')\n",
    "ax.hist([s.score for s in run0.test_case_outputs], label='basic prompt', alpha=0.5)\n",
    "ax.hist([s.score for s in run1.test_case_outputs], label='improved prompt', alpha=0.5)\n",
    "ax.legend()\n",
    "plt.tight_layout()\n",
    "plt.show()"
   ]
  },
  {
   "cell_type": "code",
   "execution_count": null,
   "metadata": {},
   "outputs": [],
   "source": []
  }
 ],
 "metadata": {
  "kernelspec": {
   "display_name": "Python 3 (ipykernel)",
   "language": "python",
   "name": "python3"
  },
  "language_info": {
   "codemirror_mode": {
    "name": "ipython",
    "version": 3
   },
   "file_extension": ".py",
   "mimetype": "text/x-python",
   "name": "python",
   "nbconvert_exporter": "python",
   "pygments_lexer": "ipython3",
   "version": "3.10.12"
  }
 },
 "nbformat": 4,
 "nbformat_minor": 4
}
