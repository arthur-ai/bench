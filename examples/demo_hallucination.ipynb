{
 "cells": [
  {
   "cell_type": "code",
   "execution_count": 1,
   "id": "89a69477",
   "metadata": {},
   "outputs": [],
   "source": [
    "import pandas as pd\n",
    "\n",
    "from arthur_bench.run.testsuite import TestSuite"
   ]
  },
  {
   "cell_type": "code",
   "execution_count": 2,
   "id": "55e46add",
   "metadata": {},
   "outputs": [
    {
     "data": {
      "text/html": [
       "<div>\n",
       "<style scoped>\n",
       "    .dataframe tbody tr th:only-of-type {\n",
       "        vertical-align: middle;\n",
       "    }\n",
       "\n",
       "    .dataframe tbody tr th {\n",
       "        vertical-align: top;\n",
       "    }\n",
       "\n",
       "    .dataframe thead th {\n",
       "        text-align: right;\n",
       "    }\n",
       "</style>\n",
       "<table border=\"1\" class=\"dataframe\">\n",
       "  <thead>\n",
       "    <tr style=\"text-align: right;\">\n",
       "      <th></th>\n",
       "      <th>source_text</th>\n",
       "      <th>question</th>\n",
       "      <th>item</th>\n",
       "      <th>human_answer</th>\n",
       "      <th>roberta-base-squad2</th>\n",
       "      <th>tinyroberta-squad2</th>\n",
       "      <th>minilm-squad2</th>\n",
       "    </tr>\n",
       "  </thead>\n",
       "  <tbody>\n",
       "    <tr>\n",
       "      <th>0</th>\n",
       "      <td>Introducing the new Plumanoix athletic shirt -...</td>\n",
       "      <td>What type of fabric is the Plumanoix athletic ...</td>\n",
       "      <td>shirt</td>\n",
       "      <td>moisture-wicking breathable fabric</td>\n",
       "      <td>moisture-wicking and breathable</td>\n",
       "      <td>moisture-wicking and breathable materials</td>\n",
       "      <td>moisture-wicking and breathable</td>\n",
       "    </tr>\n",
       "    <tr>\n",
       "      <th>1</th>\n",
       "      <td>Introducing the latest addition to the Clothim...</td>\n",
       "      <td>What is the fabric of the Athletic Shirt 2.0 f...</td>\n",
       "      <td>shirt</td>\n",
       "      <td>high quality moisture-wicking stretchy fabric</td>\n",
       "      <td>high-quality, moisture-wicking</td>\n",
       "      <td>high-quality, moisture-wicking fabric</td>\n",
       "      <td>moisture-wicking</td>\n",
       "    </tr>\n",
       "    <tr>\n",
       "      <th>2</th>\n",
       "      <td>Introducing the latest addition to the Shimmer...</td>\n",
       "      <td>What is the fabric of the Shimmer Threads Athl...</td>\n",
       "      <td>shirt</td>\n",
       "      <td>breathable quick drying moisture wicking machi...</td>\n",
       "      <td>moisture-wicking fabric</td>\n",
       "      <td>moisture-wicking fabric</td>\n",
       "      <td>moisture-wicking</td>\n",
       "    </tr>\n",
       "    <tr>\n",
       "      <th>3</th>\n",
       "      <td>Introducing the latest addition to the ZorbyX ...</td>\n",
       "      <td>What is the material used in making the ZorbyX...</td>\n",
       "      <td>shirt</td>\n",
       "      <td>Breathable material</td>\n",
       "      <td>high-quality, breathable materials</td>\n",
       "      <td>high-quality, breathable materials</td>\n",
       "      <td>breathable materials that wick away sweat</td>\n",
       "    </tr>\n",
       "    <tr>\n",
       "      <th>4</th>\n",
       "      <td>Introducing the latest addition to Zephyr Thre...</td>\n",
       "      <td>What kind of materials is the Zephyr Threads S...</td>\n",
       "      <td>shirt</td>\n",
       "      <td>soft cotton</td>\n",
       "      <td>sustainable</td>\n",
       "      <td>sustainable</td>\n",
       "      <td>high-quality cotton</td>\n",
       "    </tr>\n",
       "  </tbody>\n",
       "</table>\n",
       "</div>"
      ],
      "text/plain": [
       "                                         source_text  \\\n",
       "0  Introducing the new Plumanoix athletic shirt -...   \n",
       "1  Introducing the latest addition to the Clothim...   \n",
       "2  Introducing the latest addition to the Shimmer...   \n",
       "3  Introducing the latest addition to the ZorbyX ...   \n",
       "4  Introducing the latest addition to Zephyr Thre...   \n",
       "\n",
       "                                            question   item  \\\n",
       "0  What type of fabric is the Plumanoix athletic ...  shirt   \n",
       "1  What is the fabric of the Athletic Shirt 2.0 f...  shirt   \n",
       "2  What is the fabric of the Shimmer Threads Athl...  shirt   \n",
       "3  What is the material used in making the ZorbyX...  shirt   \n",
       "4  What kind of materials is the Zephyr Threads S...  shirt   \n",
       "\n",
       "                                        human_answer  \\\n",
       "0                 moisture-wicking breathable fabric   \n",
       "1      high quality moisture-wicking stretchy fabric   \n",
       "2  breathable quick drying moisture wicking machi...   \n",
       "3                                Breathable material   \n",
       "4                                        soft cotton   \n",
       "\n",
       "                  roberta-base-squad2  \\\n",
       "0     moisture-wicking and breathable   \n",
       "1      high-quality, moisture-wicking   \n",
       "2             moisture-wicking fabric   \n",
       "3  high-quality, breathable materials   \n",
       "4                         sustainable   \n",
       "\n",
       "                          tinyroberta-squad2  \\\n",
       "0  moisture-wicking and breathable materials   \n",
       "1      high-quality, moisture-wicking fabric   \n",
       "2                    moisture-wicking fabric   \n",
       "3         high-quality, breathable materials   \n",
       "4                                sustainable   \n",
       "\n",
       "                               minilm-squad2  \n",
       "0            moisture-wicking and breathable  \n",
       "1                           moisture-wicking  \n",
       "2                           moisture-wicking  \n",
       "3  breathable materials that wick away sweat  \n",
       "4                        high-quality cotton  "
      ]
     },
     "execution_count": 2,
     "metadata": {},
     "output_type": "execute_result"
    }
   ],
   "source": [
    "clothing_df = pd.read_csv('clothing_qa/clothing_inventory_qa.csv', index_col=0)\n",
    "clothing_df.head()"
   ]
  },
  {
   "cell_type": "code",
   "execution_count": 3,
   "id": "cf32f4bb",
   "metadata": {},
   "outputs": [],
   "source": [
    "my_test_suite = TestSuite(\n",
    "    'dummy2', \n",
    "    \"hallucination\",\n",
    "    reference_data=clothing_df, \n",
    "    input_column='question', \n",
    "    reference_column='human_answer')"
   ]
  },
  {
   "cell_type": "code",
   "execution_count": 4,
   "id": "3d47a799",
   "metadata": {},
   "outputs": [
    {
     "name": "stderr",
     "output_type": "stream",
     "text": [
      "80it [00:00, 248.67it/s]                                                        "
     ]
    },
    {
     "name": "stdout",
     "output_type": "stream",
     "text": [
      "Response:\n",
      "0\n",
      "Response:\n",
      "0\n"
     ]
    },
    {
     "name": "stderr",
     "output_type": "stream",
     "text": [
      "160it [00:00, 225.54it/s]"
     ]
    },
    {
     "name": "stdout",
     "output_type": "stream",
     "text": [
      "Response:\n",
      "0\n",
      "Response:\n",
      "0\n"
     ]
    },
    {
     "name": "stderr",
     "output_type": "stream",
     "text": [
      "240it [00:01, 227.48it/s]"
     ]
    },
    {
     "name": "stdout",
     "output_type": "stream",
     "text": [
      "Response:\n",
      "0\n",
      "Response:\n",
      "0\n"
     ]
    },
    {
     "name": "stderr",
     "output_type": "stream",
     "text": [
      "320it [00:01, 225.72it/s]"
     ]
    },
    {
     "name": "stdout",
     "output_type": "stream",
     "text": [
      "Response:\n",
      "0\n",
      "Response:\n",
      "0\n"
     ]
    },
    {
     "name": "stderr",
     "output_type": "stream",
     "text": [
      "400it [00:01, 228.86it/s]"
     ]
    },
    {
     "name": "stdout",
     "output_type": "stream",
     "text": [
      "Response:\n",
      "0\n",
      "Response:\n",
      "0\n"
     ]
    },
    {
     "name": "stderr",
     "output_type": "stream",
     "text": [
      "480it [00:02, 232.26it/s]"
     ]
    },
    {
     "name": "stdout",
     "output_type": "stream",
     "text": [
      "Response:\n",
      "0\n",
      "Response:\n",
      "0\n"
     ]
    },
    {
     "name": "stderr",
     "output_type": "stream",
     "text": [
      "560it [00:02, 230.73it/s]"
     ]
    },
    {
     "name": "stdout",
     "output_type": "stream",
     "text": [
      "Response:\n",
      "0\n",
      "Response:\n",
      "0\n"
     ]
    },
    {
     "name": "stderr",
     "output_type": "stream",
     "text": [
      "640it [00:02, 225.53it/s]"
     ]
    },
    {
     "name": "stdout",
     "output_type": "stream",
     "text": [
      "Response:\n",
      "0\n",
      "Response:\n",
      "0\n"
     ]
    },
    {
     "name": "stderr",
     "output_type": "stream",
     "text": [
      "720it [00:03, 224.48it/s]"
     ]
    },
    {
     "name": "stdout",
     "output_type": "stream",
     "text": [
      "Response:\n",
      "0\n",
      "Response:\n",
      "0\n"
     ]
    },
    {
     "name": "stderr",
     "output_type": "stream",
     "text": [
      "800it [00:03, 233.24it/s]"
     ]
    },
    {
     "name": "stdout",
     "output_type": "stream",
     "text": [
      "Response:\n",
      "0\n",
      "Response:\n",
      "0\n"
     ]
    },
    {
     "name": "stderr",
     "output_type": "stream",
     "text": [
      "880it [00:03, 227.85it/s]"
     ]
    },
    {
     "name": "stdout",
     "output_type": "stream",
     "text": [
      "Response:\n",
      "0\n",
      "Response:\n",
      "0\n"
     ]
    },
    {
     "name": "stderr",
     "output_type": "stream",
     "text": [
      "960it [00:04, 230.20it/s]"
     ]
    },
    {
     "name": "stdout",
     "output_type": "stream",
     "text": [
      "Response:\n",
      "0\n",
      "Response:\n",
      "0\n"
     ]
    },
    {
     "name": "stderr",
     "output_type": "stream",
     "text": [
      "1040it [00:04, 237.16it/s]"
     ]
    },
    {
     "name": "stdout",
     "output_type": "stream",
     "text": [
      "Response:\n",
      "0\n",
      "Response:\n",
      "0\n"
     ]
    },
    {
     "name": "stderr",
     "output_type": "stream",
     "text": [
      "1120it [00:04, 233.95it/s]"
     ]
    },
    {
     "name": "stdout",
     "output_type": "stream",
     "text": [
      "Response:\n",
      "0\n",
      "Response:\n",
      "0\n"
     ]
    },
    {
     "name": "stderr",
     "output_type": "stream",
     "text": [
      "1200it [00:05, 230.77it/s]"
     ]
    },
    {
     "name": "stdout",
     "output_type": "stream",
     "text": [
      "Response:\n",
      "0\n",
      "Response:\n",
      "0\n"
     ]
    },
    {
     "name": "stderr",
     "output_type": "stream",
     "text": [
      "1280it [00:05, 245.50it/s]"
     ]
    },
    {
     "name": "stdout",
     "output_type": "stream",
     "text": [
      "Response:\n",
      "0\n",
      "Response:\n",
      "0\n"
     ]
    },
    {
     "name": "stderr",
     "output_type": "stream",
     "text": [
      "1360it [00:05, 249.23it/s]"
     ]
    },
    {
     "name": "stdout",
     "output_type": "stream",
     "text": [
      "Response:\n",
      "0\n",
      "Response:\n",
      "0\n"
     ]
    },
    {
     "name": "stderr",
     "output_type": "stream",
     "text": [
      "1440it [00:06, 249.84it/s]"
     ]
    },
    {
     "name": "stdout",
     "output_type": "stream",
     "text": [
      "Response:\n",
      "0\n",
      "Response:\n",
      "0\n"
     ]
    },
    {
     "name": "stderr",
     "output_type": "stream",
     "text": [
      "1520it [00:06, 241.16it/s]"
     ]
    },
    {
     "name": "stdout",
     "output_type": "stream",
     "text": [
      "Response:\n",
      "0\n",
      "Response:\n",
      "0\n"
     ]
    },
    {
     "name": "stderr",
     "output_type": "stream",
     "text": [
      "1600it [00:06, 234.20it/s]"
     ]
    },
    {
     "name": "stdout",
     "output_type": "stream",
     "text": [
      "Response:\n",
      "0\n",
      "Response:\n",
      "0\n"
     ]
    },
    {
     "name": "stderr",
     "output_type": "stream",
     "text": [
      "\n"
     ]
    }
   ],
   "source": [
    "dummy_run = my_test_suite.run(\n",
    "    'dummy-run-0',\n",
    "    candidate_data=clothing_df, \n",
    "    candidate_column='roberta-base-squad2',\n",
    "    context_column='source_text'\n",
    ")"
   ]
  },
  {
   "cell_type": "code",
   "execution_count": null,
   "id": "23c0ed84",
   "metadata": {},
   "outputs": [],
   "source": []
  }
 ],
 "metadata": {
  "kernelspec": {
   "display_name": "Python 3 (ipykernel)",
   "language": "python",
   "name": "python3"
  },
  "language_info": {
   "codemirror_mode": {
    "name": "ipython",
    "version": 3
   },
   "file_extension": ".py",
   "mimetype": "text/x-python",
   "name": "python",
   "nbconvert_exporter": "python",
   "pygments_lexer": "ipython3",
   "version": "3.10.8"
  }
 },
 "nbformat": 4,
 "nbformat_minor": 5
}
