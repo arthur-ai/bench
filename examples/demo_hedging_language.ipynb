{
 "cells": [
  {
   "cell_type": "markdown",
   "metadata": {
    "pycharm": {
     "name": "#%% md\n"
    }
   },
   "source": [
    "# Arthur Bench: Evaluating model outputs using BERTScore distance from hedging language"
   ]
  },
  {
   "cell_type": "code",
   "execution_count": 2,
   "metadata": {
    "pycharm": {
     "is_executing": true,
     "name": "#%%\n"
    }
   },
   "outputs": [],
   "source": [
    "import os\n",
    "import time\n",
    "\n",
    "import pandas as pd\n",
    "import numpy as np\n",
    "\n",
    "from arthur_bench.run.testsuite import TestSuite"
   ]
  },
  {
   "cell_type": "code",
   "execution_count": 3,
   "metadata": {
    "pycharm": {
     "name": "#%%\n"
    }
   },
   "outputs": [
    {
     "data": {
      "text/html": [
       "<div>\n",
       "<style scoped>\n",
       "    .dataframe tbody tr th:only-of-type {\n",
       "        vertical-align: middle;\n",
       "    }\n",
       "\n",
       "    .dataframe tbody tr th {\n",
       "        vertical-align: top;\n",
       "    }\n",
       "\n",
       "    .dataframe thead th {\n",
       "        text-align: right;\n",
       "    }\n",
       "</style>\n",
       "<table border=\"1\" class=\"dataframe\">\n",
       "  <thead>\n",
       "    <tr style=\"text-align: right;\">\n",
       "      <th></th>\n",
       "      <th>question</th>\n",
       "      <th>candidate_output</th>\n",
       "    </tr>\n",
       "  </thead>\n",
       "  <tbody>\n",
       "    <tr>\n",
       "      <th>0</th>\n",
       "      <td>How many teaspoons are in a tablespoon?</td>\n",
       "      <td>There are 3 teaspoons in a tablespoon.</td>\n",
       "    </tr>\n",
       "    <tr>\n",
       "      <th>1</th>\n",
       "      <td>Why are the Georgia Bulldogs back to back Nati...</td>\n",
       "      <td>As an AI, I provide real-time information up t...</td>\n",
       "    </tr>\n",
       "    <tr>\n",
       "      <th>2</th>\n",
       "      <td>Who owns the best dog in the world?</td>\n",
       "      <td>As an AI, I don't have personal opinions. Howe...</td>\n",
       "    </tr>\n",
       "  </tbody>\n",
       "</table>\n",
       "</div>"
      ],
      "text/plain": [
       "                                            question  \\\n",
       "0            How many teaspoons are in a tablespoon?   \n",
       "1  Why are the Georgia Bulldogs back to back Nati...   \n",
       "2                Who owns the best dog in the world?   \n",
       "\n",
       "                                    candidate_output  \n",
       "0             There are 3 teaspoons in a tablespoon.  \n",
       "1  As an AI, I provide real-time information up t...  \n",
       "2  As an AI, I don't have personal opinions. Howe...  "
      ]
     },
     "execution_count": 3,
     "metadata": {},
     "output_type": "execute_result"
    }
   ],
   "source": [
    "df = pd.DataFrame(\n",
    "        {\n",
    "            'question': [\n",
    "                'How many teaspoons are in a tablespoon?',\n",
    "                'Why are the Georgia Bulldogs back to back National Champions in Football?',\n",
    "                'Who owns the best dog in the world?',\n",
    "            ],\n",
    "            'candidate_output': [\n",
    "                'There are 3 teaspoons in a tablespoon.',\n",
    "                'As an AI, I provide real-time information up to October 2021. As of the last update, the Georgia Bulldogs are not back-to-back National Champions in Football. The team won its last National Championship in 1980. I recommend checking a recent sports news source to get the latest information.',\n",
    "                'As an AI, I don\\'t have personal opinions. However, \"the best dog in the world\" is subjective and can vary from person to person. It often refers to one\\'s own pet, as the bond between a person and their pet is personal and unique. Thus, the owner of the \"best dog in the world\" could well be you or anyone who loves and cares for their dog deeply.',\n",
    "            ],\n",
    "        }\n",
    "    )\n",
    "\n",
    "df.head()"
   ]
  },
  {
   "cell_type": "markdown",
   "metadata": {
    "pycharm": {
     "name": "#%% md\n"
    }
   },
   "source": [
    "# Make a test suite"
   ]
  },
  {
   "cell_type": "code",
   "execution_count": 4,
   "metadata": {
    "pycharm": {
     "is_executing": true,
     "name": "#%%\n"
    }
   },
   "outputs": [
    {
     "name": "stderr",
     "output_type": "stream",
     "text": [
      "scoring method requires argument **kwargs but argument is not included in json representation. this may effect test suite reloading, consider implementing custom to_dict and from_dict methods\n",
      "not including attribute scorer in config as it is not json serializable. consider implementing custom to_dict and from_dict methods\n"
     ]
    }
   ],
   "source": [
    "current_suite = TestSuite(\n",
    "    name=f'hedging_lanugage_demo_{round(time.time())}',\n",
    "    scoring_method='hedging_language',\n",
    "    reference_data=df,\n",
    "    input_column='question',\n",
    ")"
   ]
  },
  {
   "cell_type": "markdown",
   "metadata": {
    "pycharm": {
     "name": "#%% md\n"
    }
   },
   "source": [
    "# Run the test"
   ]
  },
  {
   "cell_type": "code",
   "execution_count": 5,
   "metadata": {},
   "outputs": [
    {
     "name": "stderr",
     "output_type": "stream",
     "text": [
      "9it [00:00, 33.59it/s]               \n"
     ]
    }
   ],
   "source": [
    "current_run = current_suite.run(\n",
    "    run_name=f\"test_{round(time.time())}\",\n",
    "    candidate_data=df, \n",
    "    candidate_column='candidate_output'\n",
    ")"
   ]
  },
  {
   "cell_type": "code",
   "execution_count": 6,
   "metadata": {},
   "outputs": [
    {
     "data": {
      "text/plain": [
       "[0.4106215536594391, 0.48175278306007385, 0.5378615260124207]"
      ]
     },
     "execution_count": 6,
     "metadata": {},
     "output_type": "execute_result"
    }
   ],
   "source": [
    "current_scores = [s.score for s in current_run.test_cases]\n",
    "current_scores"
   ]
  }
 ],
 "metadata": {
  "kernelspec": {
   "display_name": "Python 3 (ipykernel)",
   "language": "python",
   "name": "python3"
  },
  "language_info": {
   "codemirror_mode": {
    "name": "ipython",
    "version": 3
   },
   "file_extension": ".py",
   "mimetype": "text/x-python",
   "name": "python",
   "nbconvert_exporter": "python",
   "pygments_lexer": "ipython3",
   "version": "3.9.17"
  }
 },
 "nbformat": 4,
 "nbformat_minor": 4
}
